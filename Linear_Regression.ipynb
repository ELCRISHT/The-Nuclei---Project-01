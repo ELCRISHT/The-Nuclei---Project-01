{
  "nbformat": 4,
  "nbformat_minor": 0,
  "metadata": {
    "colab": {
      "provenance": [],
      "authorship_tag": "ABX9TyMFnlqmIG1RIovHMzFzjKNJ",
      "include_colab_link": true
    },
    "kernelspec": {
      "name": "python3",
      "display_name": "Python 3"
    },
    "language_info": {
      "name": "python"
    }
  },
  "cells": [
    {
      "cell_type": "markdown",
      "metadata": {
        "id": "view-in-github",
        "colab_type": "text"
      },
      "source": [
        "<a href=\"https://colab.research.google.com/github/ELCRISHT/The-Nuclei---Project-01/blob/main/Valdez_Linear_Regression.ipynb\" target=\"_parent\"><img src=\"https://colab.research.google.com/assets/colab-badge.svg\" alt=\"Open In Colab\"/></a>"
      ]
    },
    {
      "cell_type": "code",
      "execution_count": null,
      "metadata": {
        "colab": {
          "base_uri": "https://localhost:8080/"
        },
        "id": "0qJWdlMjKaIa",
        "outputId": "f6a4a0ed-c730-469a-b2b8-606c458d04e7"
      },
      "outputs": [
        {
          "output_type": "stream",
          "name": "stdout",
          "text": [
            "Total predicted fare for 13 km: 132.56704980842912\n"
          ]
        }
      ],
      "source": [
        "import numpy as np\n",
        "from sklearn.linear_model import LinearRegression\n",
        "\n",
        "kilometers = np.array([1, 2, 3, 4, 5, 7, 9, 12])\n",
        "fare = np.array([25, 35, 50, 60, 65, 70, 100, 125])\n",
        "\n",
        "X = kilometers.reshape(-1, 1)\n",
        "\n",
        "model = LinearRegression()\n",
        "model.fit(X, fare)\n",
        "\n",
        "distance = np.array([[13]])\n",
        "prdctd_fare = model.predict(distance)\n",
        "\n",
        "print(\"Total predicted fare for 13 km:\", prdctd_fare[0])\n"
      ]
    }
  ]
}
